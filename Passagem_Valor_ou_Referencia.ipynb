{
  "nbformat": 4,
  "nbformat_minor": 0,
  "metadata": {
    "colab": {
      "provenance": [],
      "authorship_tag": "ABX9TyOeZ9v8ejdgmsatkQWIEOZr",
      "include_colab_link": true
    },
    "kernelspec": {
      "name": "python3",
      "display_name": "Python 3"
    },
    "language_info": {
      "name": "python"
    }
  },
  "cells": [
    {
      "cell_type": "markdown",
      "metadata": {
        "id": "view-in-github",
        "colab_type": "text"
      },
      "source": [
        "<a href=\"https://colab.research.google.com/github/CarlosAlexandre197/Google_Colab/blob/main/Passagem_Valor_ou_Referencia.ipynb\" target=\"_parent\"><img src=\"https://colab.research.google.com/assets/colab-badge.svg\" alt=\"Open In Colab\"/></a>"
      ]
    },
    {
      "cell_type": "markdown",
      "source": [
        "Passagem de parâmetro por valor ou por referência.\n",
        "\n",
        " quando passamos uma variável como parâmetro para uma função, essa variável pode chegar até a função de duas formas: apenas o valor dessa variável é copiado para dentro da função e sua variável não sofre alterações — esse caso é a passagem de parâmetro por valor. Já na passagem de parâmetro por referência, a função recebe uma referência para a posição na memória onde a sua variável está alocada/salva; isso significa que qualquer alteração nessa variável vai afetar diretamente a variável passada para ela. O exemplo a seguir mostra um caso prático:"
      ],
      "metadata": {
        "id": "-rJ5GeGYH8ZL"
      }
    },
    {
      "cell_type": "code",
      "source": [
        "x = ' Hello WORLD!' # Passagem de parâmetro por valor:\n",
        "     "
      ],
      "metadata": {
        "colab": {
          "base_uri": "https://localhost:8080/",
          "height": 35
        },
        "id": "kEJM5QrtIYI9",
        "outputId": "bc165290-2a70-46f6-eb63-0828b9170a7f"
      },
      "execution_count": null,
      "outputs": [
        {
          "output_type": "execute_result",
          "data": {
            "text/plain": [
              "'Hello WORLD!'"
            ],
            "application/vnd.google.colaboratory.intrinsic+json": {
              "type": "string"
            }
          },
          "metadata": {},
          "execution_count": 1
        }
      ]
    },
    {
      "cell_type": "code",
      "source": [
        "x"
      ],
      "metadata": {
        "colab": {
          "base_uri": "https://localhost:8080/",
          "height": 35
        },
        "id": "pR-_xsotJVlV",
        "outputId": "ae4000d0-2404-4e85-bc33-b684606f4cac"
      },
      "execution_count": null,
      "outputs": [
        {
          "output_type": "execute_result",
          "data": {
            "text/plain": [
              "' Hello WORLD!'"
            ],
            "application/vnd.google.colaboratory.intrinsic+json": {
              "type": "string"
            }
          },
          "metadata": {},
          "execution_count": 2
        }
      ]
    },
    {
      "cell_type": "code",
      "source": [
        "x.capitalize()"
      ],
      "metadata": {
        "colab": {
          "base_uri": "https://localhost:8080/",
          "height": 35
        },
        "id": "nN4Ghk-ZJbDt",
        "outputId": "2a7acf87-66a9-4e30-87f5-a79d9663bfa1"
      },
      "execution_count": null,
      "outputs": [
        {
          "output_type": "execute_result",
          "data": {
            "text/plain": [
              "' hello world!'"
            ],
            "application/vnd.google.colaboratory.intrinsic+json": {
              "type": "string"
            }
          },
          "metadata": {},
          "execution_count": 3
        }
      ]
    },
    {
      "cell_type": "code",
      "source": [
        "x"
      ],
      "metadata": {
        "colab": {
          "base_uri": "https://localhost:8080/",
          "height": 35
        },
        "id": "XBGTwjp3Jsm9",
        "outputId": "5f9406c2-28b0-432f-b316-58e685681656"
      },
      "execution_count": null,
      "outputs": [
        {
          "output_type": "execute_result",
          "data": {
            "text/plain": [
              "' Hello WORLD!'"
            ],
            "application/vnd.google.colaboratory.intrinsic+json": {
              "type": "string"
            }
          },
          "metadata": {},
          "execution_count": 4
        }
      ]
    },
    {
      "cell_type": "code",
      "source": [
        "my_number = 42\n",
        "my_number + 128"
      ],
      "metadata": {
        "colab": {
          "base_uri": "https://localhost:8080/"
        },
        "id": "qiFKuuAIKaAM",
        "outputId": "977b3f58-83e6-4b7f-c46c-061c9f530db6"
      },
      "execution_count": null,
      "outputs": [
        {
          "output_type": "execute_result",
          "data": {
            "text/plain": [
              "170"
            ]
          },
          "metadata": {},
          "execution_count": 5
        }
      ]
    },
    {
      "cell_type": "code",
      "source": [
        "my_number"
      ],
      "metadata": {
        "colab": {
          "base_uri": "https://localhost:8080/"
        },
        "id": "Gq3IVN7IK2JM",
        "outputId": "8d272d11-7e56-4c99-a162-bd15b24acd37"
      },
      "execution_count": null,
      "outputs": [
        {
          "output_type": "execute_result",
          "data": {
            "text/plain": [
              "42"
            ]
          },
          "metadata": {},
          "execution_count": 6
        }
      ]
    },
    {
      "cell_type": "markdown",
      "source": [
        "Nesse exemplo, perceba que a variável «x» não foi alterada em nenhum dos dois casos nos quais foi chamada uma função. A função strip() remove os espaços no começo e no final de uma string, mas quando eu imprimo a minha variável «x» novamente, ela continua igual; o mesmo acontece com a função capitalize(); ela transforma todas as letras para lowercase, mas a variável «x» continua intacta. Isso acontece pois a variável «x», nesse caso, tem o seu conteúdo copiado para uma variável auxiliar, na qual as funções efetivamente são executadas. O mesmo acontece quando fazemos uma operação de soma na variável sem reatribuir o resultado dessa operação de volta para a variável «my_number»."
      ],
      "metadata": {
        "id": "4b9EM84DNlUL"
      }
    },
    {
      "cell_type": "code",
      "source": [
        "my_list = [5, 4, 3, 2, 1] # Passagem de parâmetro por referência:\n",
        "my_list.sort()\n",
        "my_list"
      ],
      "metadata": {
        "colab": {
          "base_uri": "https://localhost:8080/"
        },
        "id": "Sn0tVAtBNs2J",
        "outputId": "62a7cf6e-fe46-46cb-bb60-a7cbbfddb790"
      },
      "execution_count": null,
      "outputs": [
        {
          "output_type": "execute_result",
          "data": {
            "text/plain": [
              "[1, 2, 3, 4, 5]"
            ]
          },
          "metadata": {},
          "execution_count": 9
        }
      ]
    },
    {
      "cell_type": "code",
      "source": [
        "my_list.pop()"
      ],
      "metadata": {
        "colab": {
          "base_uri": "https://localhost:8080/"
        },
        "id": "X27m40CWO_rj",
        "outputId": "1dbf4f58-35ee-4eae-8f4d-87a48c4f331a"
      },
      "execution_count": null,
      "outputs": [
        {
          "output_type": "execute_result",
          "data": {
            "text/plain": [
              "5"
            ]
          },
          "metadata": {},
          "execution_count": 10
        }
      ]
    },
    {
      "cell_type": "code",
      "source": [
        "my_list"
      ],
      "metadata": {
        "colab": {
          "base_uri": "https://localhost:8080/"
        },
        "id": "ANfRrUJlPRIc",
        "outputId": "8d985627-5a4e-48cf-8e50-2e27b4fb7f01"
      },
      "execution_count": null,
      "outputs": [
        {
          "output_type": "execute_result",
          "data": {
            "text/plain": [
              "[1, 2, 3, 4]"
            ]
          },
          "metadata": {},
          "execution_count": 11
        }
      ]
    },
    {
      "cell_type": "markdown",
      "source": [
        "Nesse exemplo, diferentemente do primeiro caso, quando foi executada uma função como sort() que ordena a lista, é executada diretamente na variável, e quando ela é impressa após executar o método, a própria variável \"my_list\" é alterada. Isso acontece pois, na chamada das duas funções acima, a variável \"my_list\" é passada como uma referência na memória, ou seja, em qualquer alteração que essa função faça na lista, a variável será alterada."
      ],
      "metadata": {
        "id": "R6t01h0JPnsE"
      }
    },
    {
      "cell_type": "markdown",
      "source": [
        "Se temos um objeto mutável (list, dict, set, etc.), podemos usar algumas operações específicas para modificá-lo e todas as variáveis que referenciam esse objeto irão ver essa mudança. # exemplo de passagem por referência"
      ],
      "metadata": {
        "id": "O0UZI7itSaIN"
      }
    },
    {
      "cell_type": "markdown",
      "source": [
        "Se temos um objeto imutável (str, int, tuple, etc.), todas as variáveis que o referenciam irão sempre ver o mesmo valor, mas operações que transformam esse valor em um novo valor irão sempre retornar um novo objeto. # exemplo de passagem por valor"
      ],
      "metadata": {
        "id": "9xFe80GFSikE"
      }
    }
  ]
}