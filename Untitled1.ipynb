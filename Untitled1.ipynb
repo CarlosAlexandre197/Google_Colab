{
  "nbformat": 4,
  "nbformat_minor": 0,
  "metadata": {
    "colab": {
      "provenance": [],
      "authorship_tag": "ABX9TyMf8xaNajhZuhvHbHnpahcV",
      "include_colab_link": true
    },
    "kernelspec": {
      "name": "python3",
      "display_name": "Python 3"
    },
    "language_info": {
      "name": "python"
    }
  },
  "cells": [
    {
      "cell_type": "markdown",
      "metadata": {
        "id": "view-in-github",
        "colab_type": "text"
      },
      "source": [
        "<a href=\"https://colab.research.google.com/github/CarlosAlexandre197/ABC_Python/blob/main/Untitled1.ipynb\" target=\"_parent\"><img src=\"https://colab.research.google.com/assets/colab-badge.svg\" alt=\"Open In Colab\"/></a>"
      ]
    },
    {
      "cell_type": "markdown",
      "source": [
        "No exemplo abaixo, declaramos uma variável chamada «minha_lista», composta por 4 elementos numéricos (note, porém, que alguns são inteiros e outros são float).\n",
        "É muito comum que os itens de uma lista sejam do mesmo tipo, formando assim uma lista homogênea.\n",
        "Entretanto, não é obrigatório que as listas sejam homogêneas, o que torna essa estrutura bastante versátil e uma ferramenta muito poderosa em Python, sendo uma das mais utilizadas na linguagem."
      ],
      "metadata": {
        "id": "7Zx0Vw8NxFRI"
      }
    },
    {
      "cell_type": "code",
      "source": [
        "minha_lista = [-5, 2.5, 4.1, 8]\n",
        "minha_lista"
      ],
      "metadata": {
        "colab": {
          "base_uri": "https://localhost:8080/"
        },
        "id": "NiizQ8YGxGQJ",
        "outputId": "d0ce7864-97b1-42cd-f10e-684480b2099d"
      },
      "execution_count": null,
      "outputs": [
        {
          "output_type": "execute_result",
          "data": {
            "text/plain": [
              "[-5, 2.5, 4.1, 8]"
            ]
          },
          "metadata": {},
          "execution_count": 1
        }
      ]
    }
  ]
}