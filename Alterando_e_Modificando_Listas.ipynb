{
  "nbformat": 4,
  "nbformat_minor": 0,
  "metadata": {
    "colab": {
      "provenance": [],
      "authorship_tag": "ABX9TyPHoXA7CdvINTF77IOWlVWG",
      "include_colab_link": true
    },
    "kernelspec": {
      "name": "python3",
      "display_name": "Python 3"
    },
    "language_info": {
      "name": "python"
    }
  },
  "cells": [
    {
      "cell_type": "markdown",
      "metadata": {
        "id": "view-in-github",
        "colab_type": "text"
      },
      "source": [
        "<a href=\"https://colab.research.google.com/github/CarlosAlexandre197/Google_Colab/blob/main/Alterando_e_Modificando_Listas.ipynb\" target=\"_parent\"><img src=\"https://colab.research.google.com/assets/colab-badge.svg\" alt=\"Open In Colab\"/></a>"
      ]
    },
    {
      "cell_type": "code",
      "execution_count": null,
      "metadata": {
        "colab": {
          "base_uri": "https://localhost:8080/"
        },
        "id": "eCz5RSi0ZRD_",
        "outputId": "82a5a60d-7c91-46b5-9d98-b86ac3896a0f"
      },
      "outputs": [
        {
          "output_type": "execute_result",
          "data": {
            "text/plain": [
              "['Morango',\n",
              " 'Uva',\n",
              " 'Limão',\n",
              " 'Laranja',\n",
              " 'Tomate',\n",
              " 'Melancia',\n",
              " 'Melão',\n",
              " 'Seriguela',\n",
              " 'Acerola',\n",
              " 'Pitanga']"
            ]
          },
          "metadata": {},
          "execution_count": 2
        }
      ],
      "source": [
        "frutas = ['Morango', 'Uva', 'Limão', 'Laranja', 'Tomate', 'Melancia', 'Melão', 'Seriguela', 'Acerola', 'Pitanga']\n",
        "frutas"
      ]
    },
    {
      "cell_type": "markdown",
      "source": [
        "Usado para adicionar item ao final da lista."
      ],
      "metadata": {
        "id": "UmyspFFP0EA0"
      }
    },
    {
      "cell_type": "code",
      "source": [
        "frutas.append('Jabuticaba') #sem precisa repetir o código, apenas executando ele várias vezes a fruta Jabuticaba foi adcionada várias vezes.\n",
        "frutas"
      ],
      "metadata": {
        "id": "11AWS4-y1VyS",
        "colab": {
          "base_uri": "https://localhost:8080/"
        },
        "outputId": "6ac305f7-39d6-40c5-c215-f285a68753f1"
      },
      "execution_count": null,
      "outputs": [
        {
          "output_type": "execute_result",
          "data": {
            "text/plain": [
              "['Morango',\n",
              " 'Uva',\n",
              " 'Limão',\n",
              " 'Laranja',\n",
              " 'Tomate',\n",
              " 'Melancia',\n",
              " 'Melão',\n",
              " 'Seriguela',\n",
              " 'Acerola',\n",
              " 'Pitanga',\n",
              " 'Jabuticaba',\n",
              " 'Jabuticaba',\n",
              " 'Jabuticaba',\n",
              " 'Jabuticaba',\n",
              " 'Jabuticaba',\n",
              " 'Jabuticaba',\n",
              " 'Jabuticaba']"
            ]
          },
          "metadata": {},
          "execution_count": 13
        }
      ]
    },
    {
      "cell_type": "markdown",
      "source": [
        "Remove o item na posição especificada na lista e o devolve. Se nenhum índice for especificado, frutas.pop() remove e retorna o último item da lista."
      ],
      "metadata": {
        "id": "89nlFQSV2ejN"
      }
    },
    {
      "cell_type": "code",
      "source": [
        "frutas.pop(11) #todas as vezes que eu executei o indice 11 ele removeu a fruta Jabuticaba, sem eu precisar digitar novamente o código. Eu fiz isso para excluir essa fruta que estva repetida várias vezes.\n"
      ],
      "metadata": {
        "colab": {
          "base_uri": "https://localhost:8080/",
          "height": 35
        },
        "id": "W9hZQLoV2nqE",
        "outputId": "1bc54219-2014-4ec3-ff86-8c6e49a350dc"
      },
      "execution_count": null,
      "outputs": [
        {
          "output_type": "execute_result",
          "data": {
            "text/plain": [
              "'Jabuticaba'"
            ],
            "application/vnd.google.colaboratory.intrinsic+json": {
              "type": "string"
            }
          },
          "metadata": {},
          "execution_count": 25
        }
      ]
    },
    {
      "cell_type": "code",
      "source": [
        "frutas"
      ],
      "metadata": {
        "colab": {
          "base_uri": "https://localhost:8080/"
        },
        "id": "pg2kaZuZ3yr7",
        "outputId": "b7642eb2-4af3-4140-f19c-780baaf4feca"
      },
      "execution_count": null,
      "outputs": [
        {
          "output_type": "execute_result",
          "data": {
            "text/plain": [
              "['Morango',\n",
              " 'Uva',\n",
              " 'Limão',\n",
              " 'Laranja',\n",
              " 'Tomate',\n",
              " 'Melancia',\n",
              " 'Melão',\n",
              " 'Seriguela',\n",
              " 'Acerola',\n",
              " 'Pitanga',\n",
              " 'Jabuticaba']"
            ]
          },
          "metadata": {},
          "execution_count": 26
        }
      ]
    },
    {
      "cell_type": "markdown",
      "source": [
        "Insere um item em uma determinada posição. O primeiro argumento é o índice do elemento antes do qual inserir, então frutas.insert(0, x) insere no primeiro elemento da lista."
      ],
      "metadata": {
        "id": "QU8HdMIL56rz"
      }
    },
    {
      "cell_type": "code",
      "source": [
        "frutas.insert(3, 'Jaca')\n",
        "frutas"
      ],
      "metadata": {
        "colab": {
          "base_uri": "https://localhost:8080/"
        },
        "id": "_-em6VqN6aCW",
        "outputId": "24ca7a9b-8f89-4693-d682-c2ac3ff663b7"
      },
      "execution_count": null,
      "outputs": [
        {
          "output_type": "execute_result",
          "data": {
            "text/plain": [
              "['Morango',\n",
              " 'Uva',\n",
              " 'Jaca',\n",
              " 'Jaca',\n",
              " 'Jaca',\n",
              " 'Limão',\n",
              " 'Laranja',\n",
              " 'Tomate',\n",
              " 'Melancia',\n",
              " 'Melão',\n",
              " 'Seriguela',\n",
              " 'Acerola',\n",
              " 'Pitanga',\n",
              " 'Jabuticaba']"
            ]
          },
          "metadata": {},
          "execution_count": 29
        }
      ]
    },
    {
      "cell_type": "code",
      "source": [
        "frutas.pop(2)\n",
        "frutas"
      ],
      "metadata": {
        "colab": {
          "base_uri": "https://localhost:8080/"
        },
        "id": "dPRA1IWI7VPd",
        "outputId": "b51e9191-8fa1-42b8-b101-018aa66e9cee"
      },
      "execution_count": null,
      "outputs": [
        {
          "output_type": "execute_result",
          "data": {
            "text/plain": [
              "['Morango',\n",
              " 'Uva',\n",
              " 'Jaca',\n",
              " 'Limão',\n",
              " 'Laranja',\n",
              " 'Tomate',\n",
              " 'Melancia',\n",
              " 'Melão',\n",
              " 'Seriguela',\n",
              " 'Acerola',\n",
              " 'Pitanga',\n",
              " 'Jabuticaba']"
            ]
          },
          "metadata": {},
          "execution_count": 31
        }
      ]
    },
    {
      "cell_type": "code",
      "source": [
        "frutas.append('Melancia')\n",
        "frutas"
      ],
      "metadata": {
        "colab": {
          "base_uri": "https://localhost:8080/"
        },
        "id": "L5v8eqiW78Fs",
        "outputId": "79d6afc0-1d24-4a67-da44-3a3cce1e20e8"
      },
      "execution_count": null,
      "outputs": [
        {
          "output_type": "execute_result",
          "data": {
            "text/plain": [
              "['Morango',\n",
              " 'Uva',\n",
              " 'Jaca',\n",
              " 'Limão',\n",
              " 'Laranja',\n",
              " 'Tomate',\n",
              " 'Melancia',\n",
              " 'Melão',\n",
              " 'Seriguela',\n",
              " 'Acerola',\n",
              " 'Pitanga',\n",
              " 'Jabuticaba',\n",
              " 'Melancia']"
            ]
          },
          "metadata": {},
          "execution_count": 33
        }
      ]
    },
    {
      "cell_type": "markdown",
      "source": [
        "Remove o primeiro item da lista cujo valor é igual a x. Obs: se você tiver dois elementos iguais, ele remove apenas a primeira ocorrência daquele valor."
      ],
      "metadata": {
        "id": "tj97goLb8YSz"
      }
    },
    {
      "cell_type": "code",
      "source": [
        "frutas.remove('Melancia')\n",
        "frutas"
      ],
      "metadata": {
        "colab": {
          "base_uri": "https://localhost:8080/"
        },
        "id": "-mhqj87g8cIj",
        "outputId": "b0ceca99-2a13-4cae-d6b8-315e5e385c77"
      },
      "execution_count": null,
      "outputs": [
        {
          "output_type": "execute_result",
          "data": {
            "text/plain": [
              "['Morango',\n",
              " 'Uva',\n",
              " 'Jaca',\n",
              " 'Limão',\n",
              " 'Laranja',\n",
              " 'Tomate',\n",
              " 'Melão',\n",
              " 'Seriguela',\n",
              " 'Acerola',\n",
              " 'Pitanga',\n",
              " 'Jabuticaba',\n",
              " 'Melancia']"
            ]
          },
          "metadata": {},
          "execution_count": 35
        }
      ]
    },
    {
      "cell_type": "markdown",
      "source": [
        "Remove todos os itens da lista."
      ],
      "metadata": {
        "id": "2oAtPhPg87xl"
      }
    },
    {
      "cell_type": "code",
      "source": [
        "frutas.clear()\n",
        "frutas"
      ],
      "metadata": {
        "colab": {
          "base_uri": "https://localhost:8080/"
        },
        "id": "UkAf4H6w89RL",
        "outputId": "f354aea5-b280-46b0-da7c-13096818ebf2"
      },
      "execution_count": null,
      "outputs": [
        {
          "output_type": "execute_result",
          "data": {
            "text/plain": [
              "[]"
            ]
          },
          "metadata": {},
          "execution_count": 36
        }
      ]
    },
    {
      "cell_type": "markdown",
      "source": [
        "Nova lista."
      ],
      "metadata": {
        "id": "YC-oY81Y-Nr7"
      }
    },
    {
      "cell_type": "code",
      "source": [
        "frutas = ['Morango', 'Uva', 'Limão', 'Laranja', 'Tomate', 'Melancia', 'Melão', 'Seriguela', 'Acerola', 'Pitanga', 'Jaca', 'Jabuticaba']\n",
        "frutas"
      ],
      "metadata": {
        "colab": {
          "base_uri": "https://localhost:8080/"
        },
        "id": "JxQaJbxE-SDT",
        "outputId": "87968e1f-8da7-4fcf-8370-43a851a27801"
      },
      "execution_count": null,
      "outputs": [
        {
          "output_type": "execute_result",
          "data": {
            "text/plain": [
              "['Morango',\n",
              " 'Uva',\n",
              " 'Limão',\n",
              " 'Laranja',\n",
              " 'Tomate',\n",
              " 'Melancia',\n",
              " 'Melão',\n",
              " 'Seriguela',\n",
              " 'Acerola',\n",
              " 'Pitanga',\n",
              " 'Jaca',\n",
              " 'Jabuticaba']"
            ]
          },
          "metadata": {},
          "execution_count": 37
        }
      ]
    },
    {
      "cell_type": "markdown",
      "source": [
        "Retorna o número de vezes que x aparece na lista."
      ],
      "metadata": {
        "id": "aSN38avBCdgJ"
      }
    },
    {
      "cell_type": "code",
      "source": [
        "frutas.count('Melão')"
      ],
      "metadata": {
        "colab": {
          "base_uri": "https://localhost:8080/"
        },
        "id": "pRXCR4D9CmvG",
        "outputId": "addc4858-5745-4328-ca4a-e5a645f49114"
      },
      "execution_count": null,
      "outputs": [
        {
          "output_type": "execute_result",
          "data": {
            "text/plain": [
              "1"
            ]
          },
          "metadata": {},
          "execution_count": 40
        }
      ]
    },
    {
      "cell_type": "code",
      "source": [
        "frutas.append('Tomate')\n",
        "frutas"
      ],
      "metadata": {
        "colab": {
          "base_uri": "https://localhost:8080/"
        },
        "id": "c55Iv69DC4BX",
        "outputId": "75bc095d-3e62-44e0-eeca-2c92b8a91f42"
      },
      "execution_count": null,
      "outputs": [
        {
          "output_type": "execute_result",
          "data": {
            "text/plain": [
              "['Morango',\n",
              " 'Uva',\n",
              " 'Limão',\n",
              " 'Laranja',\n",
              " 'Tomate',\n",
              " 'Melancia',\n",
              " 'Melão',\n",
              " 'Seriguela',\n",
              " 'Acerola',\n",
              " 'Pitanga',\n",
              " 'Jaca',\n",
              " 'Jabuticaba',\n",
              " 'Tomate']"
            ]
          },
          "metadata": {},
          "execution_count": 41
        }
      ]
    },
    {
      "cell_type": "code",
      "source": [
        "frutas.count('Tomate')"
      ],
      "metadata": {
        "colab": {
          "base_uri": "https://localhost:8080/"
        },
        "id": "UPMw_JSUDEN2",
        "outputId": "08eb7c11-4413-489b-d027-969746c072a6"
      },
      "execution_count": null,
      "outputs": [
        {
          "output_type": "execute_result",
          "data": {
            "text/plain": [
              "2"
            ]
          },
          "metadata": {},
          "execution_count": 42
        }
      ]
    },
    {
      "cell_type": "code",
      "source": [
        "frutas.remove('Tomate')\n",
        "frutas"
      ],
      "metadata": {
        "colab": {
          "base_uri": "https://localhost:8080/"
        },
        "id": "U4aoKXFPDMyO",
        "outputId": "b1bcf154-fb6d-4052-cd75-e2e2a0d95756"
      },
      "execution_count": null,
      "outputs": [
        {
          "output_type": "execute_result",
          "data": {
            "text/plain": [
              "['Morango',\n",
              " 'Uva',\n",
              " 'Limão',\n",
              " 'Laranja',\n",
              " 'Melancia',\n",
              " 'Melão',\n",
              " 'Seriguela',\n",
              " 'Acerola',\n",
              " 'Pitanga',\n",
              " 'Jaca',\n",
              " 'Jabuticaba',\n",
              " 'Tomate']"
            ]
          },
          "metadata": {},
          "execution_count": 43
        }
      ]
    },
    {
      "cell_type": "markdown",
      "source": [
        "Ordena os itens da lista, por padrão, em ordem crescente. Caso queira ordenar em ordem decrescente, basta passar o argumento reverse=True."
      ],
      "metadata": {
        "id": "F3Lbbd9dEe0v"
      }
    },
    {
      "cell_type": "code",
      "source": [
        "frutas.sort(key=None, reverse=False)\n",
        "frutas"
      ],
      "metadata": {
        "colab": {
          "base_uri": "https://localhost:8080/"
        },
        "id": "N-zrFPI3EBnO",
        "outputId": "c651b5a8-2a65-43cc-c553-462e304fa88d"
      },
      "execution_count": null,
      "outputs": [
        {
          "output_type": "execute_result",
          "data": {
            "text/plain": [
              "['Acerola',\n",
              " 'Jabuticaba',\n",
              " 'Jaca',\n",
              " 'Laranja',\n",
              " 'Limão',\n",
              " 'Melancia',\n",
              " 'Melão',\n",
              " 'Morango',\n",
              " 'Pitanga',\n",
              " 'Seriguela',\n",
              " 'Tomate',\n",
              " 'Uva']"
            ]
          },
          "metadata": {},
          "execution_count": 46
        }
      ]
    },
    {
      "cell_type": "code",
      "source": [
        "frutas.sort(key = None, reverse = True )\n",
        "frutas"
      ],
      "metadata": {
        "colab": {
          "base_uri": "https://localhost:8080/"
        },
        "id": "l-VHATlzEp4W",
        "outputId": "c4940ebf-4089-4acc-b99f-9ea30e512196"
      },
      "execution_count": null,
      "outputs": [
        {
          "output_type": "execute_result",
          "data": {
            "text/plain": [
              "['Uva',\n",
              " 'Tomate',\n",
              " 'Seriguela',\n",
              " 'Pitanga',\n",
              " 'Morango',\n",
              " 'Melão',\n",
              " 'Melancia',\n",
              " 'Limão',\n",
              " 'Laranja',\n",
              " 'Jaca',\n",
              " 'Jabuticaba',\n",
              " 'Acerola']"
            ]
          },
          "metadata": {},
          "execution_count": 47
        }
      ]
    },
    {
      "cell_type": "markdown",
      "source": [
        "Ordena os itens da lista em ordem decrescente; equivalente a list.sort(reverse=True)."
      ],
      "metadata": {
        "id": "ZS07vIKZF3mf"
      }
    },
    {
      "cell_type": "code",
      "source": [
        "frutas.reverse()\n",
        "frutas"
      ],
      "metadata": {
        "colab": {
          "base_uri": "https://localhost:8080/"
        },
        "id": "vh30jODjF9zB",
        "outputId": "6eb6a896-b83b-44e7-b4e9-4192e740690a"
      },
      "execution_count": null,
      "outputs": [
        {
          "output_type": "execute_result",
          "data": {
            "text/plain": [
              "['Uva',\n",
              " 'Tomate',\n",
              " 'Seriguela',\n",
              " 'Pitanga',\n",
              " 'Morango',\n",
              " 'Melão',\n",
              " 'Melancia',\n",
              " 'Limão',\n",
              " 'Laranja',\n",
              " 'Jaca',\n",
              " 'Jabuticaba',\n",
              " 'Acerola']"
            ]
          },
          "metadata": {},
          "execution_count": 52
        }
      ]
    },
    {
      "cell_type": "markdown",
      "source": [
        "Devolve uma cópia superficial da lista."
      ],
      "metadata": {
        "id": "bgQd_rQ2GcnH"
      }
    },
    {
      "cell_type": "code",
      "source": [
        "frutas.copy()"
      ],
      "metadata": {
        "colab": {
          "base_uri": "https://localhost:8080/"
        },
        "id": "f6A227CbGduq",
        "outputId": "290056cb-114b-4041-96a8-9a16c72d5d7a"
      },
      "execution_count": null,
      "outputs": [
        {
          "output_type": "execute_result",
          "data": {
            "text/plain": [
              "['Uva',\n",
              " 'Tomate',\n",
              " 'Seriguela',\n",
              " 'Pitanga',\n",
              " 'Morango',\n",
              " 'Melão',\n",
              " 'Melancia',\n",
              " 'Limão',\n",
              " 'Laranja',\n",
              " 'Jaca',\n",
              " 'Jabuticaba',\n",
              " 'Acerola']"
            ]
          },
          "metadata": {},
          "execution_count": 54
        }
      ]
    },
    {
      "cell_type": "markdown",
      "source": [
        "jjjjjjjjjjjjjjjjjjjjjjjjjjjjjjjjjj"
      ],
      "metadata": {
        "id": "kl2xu3HtKb8Z"
      }
    },
    {
      "cell_type": "code",
      "source": [],
      "metadata": {
        "id": "LYKGVz4GKdso"
      },
      "execution_count": null,
      "outputs": []
    }
  ]
}