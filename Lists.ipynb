{
  "nbformat": 4,
  "nbformat_minor": 0,
  "metadata": {
    "colab": {
      "provenance": [],
      "authorship_tag": "ABX9TyN0HRDEY6cxautMdmBRa6cj",
      "include_colab_link": true
    },
    "kernelspec": {
      "name": "python3",
      "display_name": "Python 3"
    },
    "language_info": {
      "name": "python"
    }
  },
  "cells": [
    {
      "cell_type": "markdown",
      "metadata": {
        "id": "view-in-github",
        "colab_type": "text"
      },
      "source": [
        "<a href=\"https://colab.research.google.com/github/CarlosAlexandre197/ABC_Python/blob/main/Lists.ipynb\" target=\"_parent\"><img src=\"https://colab.research.google.com/assets/colab-badge.svg\" alt=\"Open In Colab\"/></a>"
      ]
    },
    {
      "cell_type": "markdown",
      "source": [
        "No exemplo abaixo, declaramos uma variável chamada «minha_lista», composta por 4 elementos numéricos (note, porém, que alguns são inteiros e outros são float).\n",
        "É muito comum que os itens de uma lista sejam do mesmo tipo, formando assim uma lista homogênea.\n",
        "Entretanto, não é obrigatório que as listas sejam homogêneas, o que torna essa estrutura bastante versátil e uma ferramenta muito poderosa em Python, sendo uma das mais utilizadas na linguagem."
      ],
      "metadata": {
        "id": "7Zx0Vw8NxFRI"
      }
    },
    {
      "cell_type": "code",
      "source": [
        "minha_lista = [-5, 2.5, 4.1, 8]\n",
        "minha_lista"
      ],
      "metadata": {
        "colab": {
          "base_uri": "https://localhost:8080/"
        },
        "id": "NiizQ8YGxGQJ",
        "outputId": "d8b40443-8d46-422e-8239-36739a73447b"
      },
      "execution_count": 8,
      "outputs": [
        {
          "output_type": "execute_result",
          "data": {
            "text/plain": [
              "[-5, 2.5, 4.1, 8]"
            ]
          },
          "metadata": {},
          "execution_count": 8
        }
      ]
    },
    {
      "cell_type": "markdown",
      "source": [
        " Também podemos declarar listas utilizando a palavra reservada list(), mas, nesse caso, o argumento que passamos para essa função list() é um iterável."
      ],
      "metadata": {
        "id": "FEYz0pKatYBW"
      }
    },
    {
      "cell_type": "code",
      "source": [
        "minha_lista_2 = list(range(5))\n",
        "minha_lista_2"
      ],
      "metadata": {
        "colab": {
          "base_uri": "https://localhost:8080/"
        },
        "id": "_3wjUzmsunAv",
        "outputId": "7393ae1e-df06-485c-b622-657412e66a2a"
      },
      "execution_count": null,
      "outputs": [
        {
          "output_type": "execute_result",
          "data": {
            "text/plain": [
              "[0, 1, 2, 3, 4]"
            ]
          },
          "metadata": {},
          "execution_count": 1
        }
      ]
    },
    {
      "cell_type": "code",
      "source": [
        "type(minha_lista_2)"
      ],
      "metadata": {
        "colab": {
          "base_uri": "https://localhost:8080/"
        },
        "id": "gjS-jLAev6qt",
        "outputId": "5f0d5745-e0e5-444c-c997-68b7148f7674"
      },
      "execution_count": null,
      "outputs": [
        {
          "output_type": "execute_result",
          "data": {
            "text/plain": [
              "list"
            ]
          },
          "metadata": {},
          "execution_count": 4
        }
      ]
    },
    {
      "cell_type": "code",
      "source": [
        "type(minha_lista)"
      ],
      "metadata": {
        "colab": {
          "base_uri": "https://localhost:8080/"
        },
        "id": "boZVLs9_xGkv",
        "outputId": "900492db-78ed-4f49-9de7-e8429c759b5c"
      },
      "execution_count": 9,
      "outputs": [
        {
          "output_type": "execute_result",
          "data": {
            "text/plain": [
              "list"
            ]
          },
          "metadata": {},
          "execution_count": 9
        }
      ]
    },
    {
      "cell_type": "markdown",
      "source": [
        "Além disso, listas são estruturas mutáveis, o que significa que é possível modificar seus elementos e aumentar ou diminuir seu tamanho, sem necessidade de uma nova inicialização do objeto. Se quisermos aumentar a nossa lista acrescentando um elemento ao final dela, podemos chamar o método append:"
      ],
      "metadata": {
        "id": "ibztY_5nxhwd"
      }
    },
    {
      "cell_type": "code",
      "source": [
        "minha_lista"
      ],
      "metadata": {
        "colab": {
          "base_uri": "https://localhost:8080/"
        },
        "id": "xsJIVg-Dx0xW",
        "outputId": "0891eb1e-fbfb-465c-a950-608ce302bf49"
      },
      "execution_count": 10,
      "outputs": [
        {
          "output_type": "execute_result",
          "data": {
            "text/plain": [
              "[-5, 2.5, 4.1, 8]"
            ]
          },
          "metadata": {},
          "execution_count": 10
        }
      ]
    },
    {
      "cell_type": "code",
      "source": [
        "minha_lista.append(10)\n",
        "minha_lista"
      ],
      "metadata": {
        "colab": {
          "base_uri": "https://localhost:8080/"
        },
        "id": "bAdkizYgx78G",
        "outputId": "70a265e9-6015-40d9-b9bd-fad790b80d4d"
      },
      "execution_count": 11,
      "outputs": [
        {
          "output_type": "execute_result",
          "data": {
            "text/plain": [
              "[-5, 2.5, 4.1, 8, 10]"
            ]
          },
          "metadata": {},
          "execution_count": 11
        }
      ]
    },
    {
      "cell_type": "markdown",
      "source": [
        "Outro ponto importante das listas é a possibilidade de acessar seus elementos através dos índices. Cada elemento de uma lista possui um índice inteiro correspondente, começando pelo 0 e terminando no «número de elementos menos um». No exemplo acima, após acrescentarmos o item 10 à nossa lista, temos 5 elementos no total. O primeiro elemento pode ser acessado da seguinte maneira:"
      ],
      "metadata": {
        "id": "YV-VRFP6ywVs"
      }
    },
    {
      "cell_type": "code",
      "source": [
        "minha_lista"
      ],
      "metadata": {
        "colab": {
          "base_uri": "https://localhost:8080/"
        },
        "id": "wwWCSUXsyyik",
        "outputId": "c488d087-2b1a-4a42-fd7a-180306fcedc0"
      },
      "execution_count": 12,
      "outputs": [
        {
          "output_type": "execute_result",
          "data": {
            "text/plain": [
              "[-5, 2.5, 4.1, 8, 10]"
            ]
          },
          "metadata": {},
          "execution_count": 12
        }
      ]
    },
    {
      "cell_type": "code",
      "source": [
        "minha_lista[0]"
      ],
      "metadata": {
        "colab": {
          "base_uri": "https://localhost:8080/"
        },
        "id": "uAZBzL5dzISM",
        "outputId": "c3c53894-d52c-44e2-d6dd-bb1f15d2d3a2"
      },
      "execution_count": 13,
      "outputs": [
        {
          "output_type": "execute_result",
          "data": {
            "text/plain": [
              "-5"
            ]
          },
          "metadata": {},
          "execution_count": 13
        }
      ]
    },
    {
      "cell_type": "markdown",
      "source": [
        "O exemplo a seguir explora um pouco esses outros parâmetros:"
      ],
      "metadata": {
        "id": "mv9x2MJ1zd8j"
      }
    },
    {
      "cell_type": "code",
      "source": [
        "minha_lista_3 = list(range(25))\n",
        "minha_lista_3"
      ],
      "metadata": {
        "colab": {
          "base_uri": "https://localhost:8080/"
        },
        "id": "UuSYsGLh0KPj",
        "outputId": "6e638e59-ca55-4ed7-d7bb-b49550c4ca74"
      },
      "execution_count": 15,
      "outputs": [
        {
          "output_type": "execute_result",
          "data": {
            "text/plain": [
              "[0,\n",
              " 1,\n",
              " 2,\n",
              " 3,\n",
              " 4,\n",
              " 5,\n",
              " 6,\n",
              " 7,\n",
              " 8,\n",
              " 9,\n",
              " 10,\n",
              " 11,\n",
              " 12,\n",
              " 13,\n",
              " 14,\n",
              " 15,\n",
              " 16,\n",
              " 17,\n",
              " 18,\n",
              " 19,\n",
              " 20,\n",
              " 21,\n",
              " 22,\n",
              " 23,\n",
              " 24]"
            ]
          },
          "metadata": {},
          "execution_count": 15
        }
      ]
    },
    {
      "cell_type": "code",
      "source": [
        "minha_lista_3[7]"
      ],
      "metadata": {
        "colab": {
          "base_uri": "https://localhost:8080/"
        },
        "id": "6twqbElx0fYT",
        "outputId": "708a6790-74c2-470a-9710-9882a76410ac"
      },
      "execution_count": 16,
      "outputs": [
        {
          "output_type": "execute_result",
          "data": {
            "text/plain": [
              "7"
            ]
          },
          "metadata": {},
          "execution_count": 16
        }
      ]
    },
    {
      "cell_type": "code",
      "source": [
        "minha_lista_3[0:10] # vou do índice 0 até o 9 (10-1)"
      ],
      "metadata": {
        "colab": {
          "base_uri": "https://localhost:8080/"
        },
        "id": "vNq2UD-d0z51",
        "outputId": "91fdd5ff-bcaa-4fa4-929a-8118d5f2b415"
      },
      "execution_count": 17,
      "outputs": [
        {
          "output_type": "execute_result",
          "data": {
            "text/plain": [
              "[0, 1, 2, 3, 4, 5, 6, 7, 8, 9]"
            ]
          },
          "metadata": {},
          "execution_count": 17
        }
      ]
    },
    {
      "cell_type": "code",
      "source": [
        "minha_lista_3[0:20:2] # vou do 0 até 19 pulando de 2 em 2"
      ],
      "metadata": {
        "colab": {
          "base_uri": "https://localhost:8080/"
        },
        "id": "7mlr8wHp1KY5",
        "outputId": "3a950f32-7351-4d46-9a65-1f3913e334f0"
      },
      "execution_count": 18,
      "outputs": [
        {
          "output_type": "execute_result",
          "data": {
            "text/plain": [
              "[0, 2, 4, 6, 8, 10, 12, 14, 16, 18]"
            ]
          },
          "metadata": {},
          "execution_count": 18
        }
      ]
    },
    {
      "cell_type": "code",
      "source": [
        "minha_lista_3[0::5] # vou do 0 até o último índice (valor padrão pois eu não passei o segundo argumento) pulando de 5 em 5"
      ],
      "metadata": {
        "colab": {
          "base_uri": "https://localhost:8080/"
        },
        "id": "75hHiigN1iFC",
        "outputId": "6a0801aa-e36f-43b9-f297-82910dd64be1"
      },
      "execution_count": 19,
      "outputs": [
        {
          "output_type": "execute_result",
          "data": {
            "text/plain": [
              "[0, 5, 10, 15, 20]"
            ]
          },
          "metadata": {},
          "execution_count": 19
        }
      ]
    },
    {
      "cell_type": "code",
      "source": [
        "minha_lista_3[0:20:3] # vou de 0 até o 19 pulando de 3 em 3"
      ],
      "metadata": {
        "colab": {
          "base_uri": "https://localhost:8080/"
        },
        "id": "hcinnRr73QOq",
        "outputId": "136f7c59-f01c-454e-c697-dd24b61a9df6"
      },
      "execution_count": 21,
      "outputs": [
        {
          "output_type": "execute_result",
          "data": {
            "text/plain": [
              "[0, 3, 6, 9, 12, 15, 18]"
            ]
          },
          "metadata": {},
          "execution_count": 21
        }
      ]
    },
    {
      "cell_type": "markdown",
      "source": [
        "A lista aceita números negativos como índices! Mas o que será que acontece se eu passar o valor −1 para uma lista? "
      ],
      "metadata": {
        "id": "I5YHObM17Xap"
      }
    },
    {
      "cell_type": "code",
      "source": [
        "minha_lista_3[-1]"
      ],
      "metadata": {
        "colab": {
          "base_uri": "https://localhost:8080/"
        },
        "id": "lTLalGin7oBZ",
        "outputId": "aed9edeb-ef5c-405b-90fb-3f719264c3e1"
      },
      "execution_count": 26,
      "outputs": [
        {
          "output_type": "execute_result",
          "data": {
            "text/plain": [
              "24"
            ]
          },
          "metadata": {},
          "execution_count": 26
        }
      ]
    },
    {
      "cell_type": "code",
      "source": [
        "minha_lista_3[-7]"
      ],
      "metadata": {
        "colab": {
          "base_uri": "https://localhost:8080/"
        },
        "id": "EGoIhY-h7vex",
        "outputId": "f39d53e6-5cd3-4e5a-9113-2ad1cbbd92eb"
      },
      "execution_count": 27,
      "outputs": [
        {
          "output_type": "execute_result",
          "data": {
            "text/plain": [
              "18"
            ]
          },
          "metadata": {},
          "execution_count": 27
        }
      ]
    },
    {
      "cell_type": "code",
      "source": [
        "minha_lista_3[-10]"
      ],
      "metadata": {
        "colab": {
          "base_uri": "https://localhost:8080/"
        },
        "id": "M1Kzm5fL77zx",
        "outputId": "79a7046f-3a53-4c25-cdf1-cdd5cf2ec78c"
      },
      "execution_count": 28,
      "outputs": [
        {
          "output_type": "execute_result",
          "data": {
            "text/plain": [
              "15"
            ]
          },
          "metadata": {},
          "execution_count": 28
        }
      ]
    }
  ]
}